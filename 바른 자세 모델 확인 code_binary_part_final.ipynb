{
 "cells": [
  {
   "cell_type": "markdown",
   "id": "ceba44e2",
   "metadata": {},
   "source": [
    "### 바른자세 모델 확인 코드"
   ]
  },
  {
   "cell_type": "code",
   "execution_count": 1,
   "id": "8e7532af",
   "metadata": {
    "scrolled": false
   },
   "outputs": [
    {
     "name": "stdout",
     "output_type": "stream",
     "text": [
      "Model: \"sequential\"\n",
      "_________________________________________________________________\n",
      "Layer (type)                 Output Shape              Param #   \n",
      "=================================================================\n",
      "vgg16 (Functional)           (None, 4, 4, 512)         14714688  \n",
      "_________________________________________________________________\n",
      "flatten (Flatten)            (None, 8192)              0         \n",
      "_________________________________________________________________\n",
      "dense (Dense)                (None, 64)                524352    \n",
      "_________________________________________________________________\n",
      "dense_1 (Dense)              (None, 2)                 130       \n",
      "=================================================================\n",
      "Total params: 15,239,170\n",
      "Trainable params: 524,482\n",
      "Non-trainable params: 14,714,688\n",
      "_________________________________________________________________\n",
      "Model: \"sequential\"\n",
      "_________________________________________________________________\n",
      "Layer (type)                 Output Shape              Param #   \n",
      "=================================================================\n",
      "vgg16 (Functional)           (None, 4, 4, 512)         14714688  \n",
      "_________________________________________________________________\n",
      "flatten (Flatten)            (None, 8192)              0         \n",
      "_________________________________________________________________\n",
      "dense (Dense)                (None, 64)                524352    \n",
      "_________________________________________________________________\n",
      "dense_1 (Dense)              (None, 2)                 130       \n",
      "=================================================================\n",
      "Total params: 15,239,170\n",
      "Trainable params: 524,482\n",
      "Non-trainable params: 14,714,688\n",
      "_________________________________________________________________\n",
      "Model: \"sequential_1\"\n",
      "_________________________________________________________________\n",
      "Layer (type)                 Output Shape              Param #   \n",
      "=================================================================\n",
      "vgg16 (Functional)           (None, 4, 4, 512)         14714688  \n",
      "_________________________________________________________________\n",
      "flatten_1 (Flatten)          (None, 8192)              0         \n",
      "_________________________________________________________________\n",
      "dense_2 (Dense)              (None, 64)                524352    \n",
      "_________________________________________________________________\n",
      "dense_3 (Dense)              (None, 2)                 130       \n",
      "=================================================================\n",
      "Total params: 15,239,170\n",
      "Trainable params: 524,482\n",
      "Non-trainable params: 14,714,688\n",
      "_________________________________________________________________\n"
     ]
    }
   ],
   "source": [
    "import tensorflow as tf\n",
    "import sys\n",
    "import os\n",
    "from tensorflow.keras.models import load_model\n",
    "\n",
    "import matplotlib.pyplot as plt\n",
    "import numpy as np\n",
    "import cv2\n",
    "\n",
    "model = load_model('./model/03-0.3147final_project.hdf5')\n",
    "model.summary()\n",
    "\n",
    "model_hip = load_model('./model/03-0.2348final_project_hip.hdf5')\n",
    "model_hip.summary()\n",
    "\n",
    "model_legs = load_model('./model/03-0.4615final_project_legs.hdf5')\n",
    "model_legs.summary()"
   ]
  },
  {
   "cell_type": "code",
   "execution_count": 28,
   "id": "cde408fa",
   "metadata": {},
   "outputs": [
    {
     "name": "stdout",
     "output_type": "stream",
     "text": [
      "\n",
      "============================== BODY_25 Model ==============================\n",
      "[pointed] Nose (0) => prob: 0.75440 / x: 153 / y: 75\n",
      "[pointed] Neck (1) => prob: 0.65629 / x: 141 / y: 126\n",
      "[pointed] RShoulder (2) => prob: 0.48232 / x: 98 / y: 126\n",
      "[pointed] RElbow (3) => prob: 0.71444 / x: 86 / y: 215\n",
      "[pointed] RWrist (4) => prob: 0.81988 / x: 92 / y: 291\n",
      "[pointed] LShoulder (5) => prob: 0.54485 / x: 190 / y: 139\n",
      "[pointed] LElbow (6) => prob: 0.83866 / x: 209 / y: 202\n",
      "[pointed] LWrist (7) => prob: 0.65383 / x: 184 / y: 253\n",
      "[pointed] MidHip (8) => prob: 0.47802 / x: 141 / y: 265\n",
      "[pointed] RHip (9) => prob: 0.45769 / x: 116 / y: 265\n",
      "[pointed] RKnee (10) => prob: 0.50694 / x: 104 / y: 404\n",
      "[pointed] RAnkle (11) => prob: 0.67699 / x: 104 / y: 506\n",
      "[pointed] LHip (12) => prob: 0.44368 / x: 166 / y: 278\n",
      "[pointed] LKnee (13) => prob: 0.50349 / x: 166 / y: 392\n",
      "[pointed] LAnkle (14) => prob: 0.62134 / x: 153 / y: 518\n",
      "[pointed] REye (15) => prob: 0.84617 / x: 147 / y: 63\n",
      "[pointed] LEye (16) => prob: 0.72859 / x: 166 / y: 75\n",
      "[pointed] REar (17) => prob: 0.82623 / x: 129 / y: 63\n",
      "[pointed] LEar (18) => prob: 0.28368 / x: 178 / y: 75\n",
      "[pointed] LBigToe (19) => prob: 0.59527 / x: 172 / y: 544\n",
      "[pointed] LSmallToe (20) => prob: 0.58999 / x: 172 / y: 531\n",
      "[pointed] LHeel (21) => prob: 0.46150 / x: 147 / y: 531\n",
      "[pointed] RBigToe (22) => prob: 0.36263 / x: 92 / y: 518\n",
      "[pointed] RSmallToe (23) => prob: 0.45723 / x: 92 / y: 518\n",
      "[pointed] RHeel (24) => prob: 0.53413 / x: 110 / y: 518\n",
      "[pointed] Background (25) => prob: 1.01147 / x: 116 / y: 379\n",
      "\n",
      "[linked] 0 (153, 75) <=> 1 (141, 126)\n",
      "[linked] 0 (153, 75) <=> 15 (147, 63)\n",
      "[linked] 0 (153, 75) <=> 16 (166, 75)\n",
      "[linked] 1 (141, 126) <=> 2 (98, 126)\n",
      "[linked] 1 (141, 126) <=> 5 (190, 139)\n",
      "[linked] 1 (141, 126) <=> 8 (141, 265)\n",
      "[linked] 8 (141, 265) <=> 9 (116, 265)\n",
      "[linked] 8 (141, 265) <=> 12 (166, 278)\n",
      "[linked] 9 (116, 265) <=> 10 (104, 404)\n",
      "[linked] 12 (166, 278) <=> 13 (166, 392)\n",
      "[linked] 2 (98, 126) <=> 3 (86, 215)\n",
      "[linked] 3 (86, 215) <=> 4 (92, 291)\n",
      "[linked] 5 (190, 139) <=> 6 (209, 202)\n",
      "[linked] 6 (209, 202) <=> 7 (184, 253)\n",
      "[linked] 10 (104, 404) <=> 11 (104, 506)\n",
      "[linked] 13 (166, 392) <=> 14 (153, 518)\n",
      "[linked] 15 (147, 63) <=> 17 (129, 63)\n",
      "[linked] 16 (166, 75) <=> 18 (178, 75)\n",
      "[linked] 14 (153, 518) <=> 21 (147, 531)\n",
      "[linked] 19 (172, 544) <=> 21 (147, 531)\n",
      "[linked] 20 (172, 531) <=> 21 (147, 531)\n",
      "[linked] 11 (104, 506) <=> 24 (110, 518)\n",
      "[linked] 22 (92, 518) <=> 24 (110, 518)\n",
      "[linked] 23 (92, 518) <=> 24 (110, 518)\n",
      "\n",
      "[linked] 0 (153, 75) <=> 1 (141, 126)\n",
      "[linked] 0 (153, 75) <=> 15 (147, 63)\n",
      "[linked] 0 (153, 75) <=> 16 (166, 75)\n",
      "[linked] 1 (141, 126) <=> 2 (98, 126)\n",
      "[linked] 1 (141, 126) <=> 5 (190, 139)\n",
      "[linked] 1 (141, 126) <=> 8 (141, 265)\n",
      "[linked] 8 (141, 265) <=> 9 (116, 265)\n",
      "[linked] 8 (141, 265) <=> 12 (166, 278)\n",
      "[linked] 9 (116, 265) <=> 10 (104, 404)\n",
      "[linked] 12 (166, 278) <=> 13 (166, 392)\n",
      "[linked] 2 (98, 126) <=> 3 (86, 215)\n",
      "[linked] 3 (86, 215) <=> 4 (92, 291)\n",
      "[linked] 5 (190, 139) <=> 6 (209, 202)\n",
      "[linked] 6 (209, 202) <=> 7 (184, 253)\n",
      "[linked] 10 (104, 404) <=> 11 (104, 506)\n",
      "[linked] 13 (166, 392) <=> 14 (153, 518)\n",
      "[linked] 15 (147, 63) <=> 17 (129, 63)\n",
      "[linked] 16 (166, 75) <=> 18 (178, 75)\n",
      "[linked] 14 (153, 518) <=> 21 (147, 531)\n",
      "[linked] 19 (172, 544) <=> 21 (147, 531)\n",
      "[linked] 20 (172, 531) <=> 21 (147, 531)\n",
      "[linked] 11 (104, 506) <=> 24 (110, 518)\n",
      "[linked] 22 (92, 518) <=> 24 (110, 518)\n",
      "[linked] 23 (92, 518) <=> 24 (110, 518)\n"
     ]
    }
   ],
   "source": [
    "# 포인트 찾기\n",
    "def output_keypoints(frame, proto_file, weights_file, threshold, model_name, BODY_PARTS):\n",
    "    global points\n",
    "    # 네트워크 불러오기\n",
    "    net = cv2.dnn.readNetFromCaffe(proto_file, weights_file)\n",
    "\n",
    "    # 입력 이미지의 사이즈 정의\n",
    "    image_height = 368\n",
    "    image_width = 368\n",
    "\n",
    "    # 네트워크에 넣기 위한 전처리\n",
    "    input_blob = cv2.dnn.blobFromImage(frame, 1.0 / 255, (image_width, image_height), (0, 0, 0), swapRB=False, crop=False)\n",
    "\n",
    "    # mean: 만약 image의 채널이 BGR 순서이고, swapRB가 true이면 R 평균, G평균, B 평균 순서로 값 지정\n",
    "    # swapRB : 첫 번째 채널과 3번째 채널을 서로 바꿀 것인지를 결정하는 flag.\n",
    "    # 이 값이 true이면 컬러 입력 영상의 채널 순서를 BGR에서 RGB로 변경\n",
    "    # crop : 입력 영상(image)의 크기를 변경한 후, crop을 수행할 것인지를 결정하는 flag\n",
    "    # network입력을 위한 blob으로 변환(blob: 영상 등의 data를 포함할수 있는 다차원 data 표현 방식)\n",
    "    \n",
    "    # 전처리된 blob 네트워크에 입력\n",
    "    net.setInput(input_blob)\n",
    "\n",
    "    # 결과 받아오기\n",
    "    out = net.forward()\n",
    "    out_height = out.shape[2]\n",
    "    out_width = out.shape[3]\n",
    "\n",
    "    # 원본 이미지의 높이, 너비를 받아오기\n",
    "    frame_height, frame_width = frame.shape[:2]\n",
    "\n",
    "    # 포인트 리스트 초기화\n",
    "    points = []\n",
    "\n",
    "    print(f\"\\n============================== {model_name} Model ==============================\")\n",
    "    for i in range(len(BODY_PARTS)):\n",
    "\n",
    "        # 신체 부위의 confidence map\n",
    "        prob_map = out[0, i, :, :]\n",
    "\n",
    "        # 최소값, 최대값, 최소값 위치, 최대값 위치\n",
    "        min_val, prob, min_loc, point = cv2.minMaxLoc(prob_map)\n",
    "\n",
    "        # 원본 이미지에 맞게 포인트 위치 조정\n",
    "        x = (frame_width * point[0]) / out_width\n",
    "        x = int(x)\n",
    "        y = (frame_height * point[1]) / out_height\n",
    "        y = int(y)\n",
    "\n",
    "        if prob > threshold:  # [pointed] \n",
    "            # cv.circle(그림, 중심, 크기, 색상, 두께(-1이면 꽉채움), 선 유형)\n",
    "            cv2.circle(frame, (x, y), 5, (0, 255, 255), thickness=-1, lineType=cv2.FILLED)\n",
    "            # cv2.putText(그림, 문구, 시작좌표, 폰트종류, 폰트크기, 색상, 사이즈, 선 유형)\n",
    "            cv2.putText(frame, str(i), (x, y), cv2.FONT_HERSHEY_SIMPLEX, 0.6, (0, 0, 255), 1, lineType=cv2.LINE_AA)\n",
    "\n",
    "            points.append((x, y))\n",
    "            print(f\"[pointed] {BODY_PARTS[i]} ({i}) => prob: {prob:.5f} / x: {x} / y: {y}\")\n",
    "\n",
    "        else:  # [not pointed]\n",
    "            cv2.circle(frame, (x, y), 5, (0, 255, 255), thickness=-1, lineType=cv2.FILLED)\n",
    "            cv2.putText(frame, str(i), (x, y), cv2.FONT_HERSHEY_SIMPLEX, 0.6, (255, 0, 0), 1, lineType=cv2.LINE_AA)\n",
    "\n",
    "            points.append(None)\n",
    "            print(f\"[not pointed] {BODY_PARTS[i]} ({i}) => prob: {prob:.5f} / x: {x} / y: {y}\")\n",
    "\n",
    "    cv2.imshow(\"Output_Keypoints\", frame)\n",
    "    cv2.waitKey(0)\n",
    "\n",
    "# 포인트 선 그리기\n",
    "def output_keypoints_with_lines(frame, POSE_PAIRS):\n",
    "    print()\n",
    "    for pair in POSE_PAIRS:\n",
    "        part_a = pair[0]  # 0 (Head)\n",
    "        part_b = pair[1]  # 1 (Neck)\n",
    "        if points[part_a] and points[part_b]:  # 선 그리기\n",
    "            print(f\"[linked] {part_a} {points[part_a]} <=> {part_b} {points[part_b]}\")\n",
    "            cv2.line(frame, points[part_a], points[part_b], (0, 255, 0), 3)\n",
    "        else:  # 선 그리지 않기\n",
    "            print(f\"[not linked] {part_a} {points[part_a]} <=> {part_b} {points[part_b]}\")\n",
    "\n",
    "    cv2.imshow(\"output_keypoints_with_lines\", frame)\n",
    "    cv2.waitKey(0)\n",
    "    cv2.destroyAllWindows()\n",
    "\n",
    "    \n",
    "# 포인트 선 이미지화\n",
    "def output_lines_image(frame, POSE_PAIRS):\n",
    "    print()\n",
    "    for pair in POSE_PAIRS:\n",
    "        part_a = pair[0]  # 0 (Head)\n",
    "        part_b = pair[1]  # 1 (Neck)\n",
    "\n",
    "        if points[part_a] and points[part_b]:  # 선 그리기\n",
    "            print(f\"[linked] {part_a} {points[part_a]} <=> {part_b} {points[part_b]}\")\n",
    "            cv2.line(frame, points[part_a], points[part_b], (0, 255, 0), 3)\n",
    "        else:  # 선 그리지 않기\n",
    "            print(f\"[not linked] {part_a} {points[part_a]} <=> {part_b} {points[part_b]}\")\n",
    "    cv2.imwrite('testfile.png', frame)   # 테스트 파일 저장\n",
    "    cv2.imshow(\"output_keypoints_with_lines\", frame)\n",
    "    cv2.waitKey(0)\n",
    "    cv2.destroyAllWindows()\n",
    "    \n",
    "BODY_PARTS_BODY_25 = {0: \"Nose\", 1: \"Neck\", 2: \"RShoulder\", 3: \"RElbow\", 4: \"RWrist\",\n",
    "                      5: \"LShoulder\", 6: \"LElbow\", 7: \"LWrist\", 8: \"MidHip\", 9: \"RHip\",\n",
    "                      10: \"RKnee\", 11: \"RAnkle\", 12: \"LHip\", 13: \"LKnee\", 14: \"LAnkle\",\n",
    "                      15: \"REye\", 16: \"LEye\", 17: \"REar\", 18: \"LEar\", 19: \"LBigToe\",\n",
    "                      20: \"LSmallToe\", 21: \"LHeel\", 22: \"RBigToe\", 23: \"RSmallToe\", 24: \"RHeel\", 25: \"Background\"}\n",
    "\n",
    "POSE_PAIRS_BODY_25 = [[0, 1], [0, 15], [0, 16], [1, 2], [1, 5], [1, 8], [8, 9], [8, 12], [9, 10], [12, 13], [2, 3],\n",
    "                      [3, 4], [5, 6], [6, 7], [10, 11], [13, 14], [15, 17], [16, 18], [14, 21], [19, 21], [20, 21],\n",
    "                      [11, 24], [22, 24], [23, 24]]\n",
    "\n",
    "# 신경 네트워크의 구조를 지정하는 prototxt 파일 (다양한 계층이 배열되는 방법 등)\n",
    "protoFile_body_25 = \"C:/Users/leesu/model/pose_estimation/openpose-master/openpose-master/models/pose/body_25/pose_deploy.prototxt\"\n",
    "\n",
    "# 훈련된 모델의 weight 를 저장하는 caffemodel 파일\n",
    "weightsFile_body_25 = \"C:/Users/leesu/model/pose_estimation/openpose-master/openpose-master/models/pose/body_25/pose_iter_584000.caffemodel\"\n",
    "\n",
    "# 이미지 경로\n",
    "test = \"C:/Users/leesu/model/pose_estimation/openpose-master/S3.png\"\n",
    "back = \"C:/Users/leesu/model/pose_estimation/openpose-master/H.png\"\n",
    "# 키포인트를 저장할 빈 리스트\n",
    "points = []\n",
    "\n",
    "# 이미지 읽어오기\n",
    "frame_body_25 = cv2.imread(test)\n",
    "frame_body = cv2.imread(back)\n",
    "\n",
    "# BODY_25 Model\n",
    "frame_BODY_25 = output_keypoints(frame=frame_body_25, proto_file=protoFile_body_25, weights_file=weightsFile_body_25,\n",
    "                             threshold=0.2, model_name=\"BODY_25\", BODY_PARTS=BODY_PARTS_BODY_25)\n",
    "output_keypoints_with_lines(frame=frame_body_25, POSE_PAIRS=POSE_PAIRS_BODY_25)\n",
    "output_lines_image(frame=frame_body, POSE_PAIRS=POSE_PAIRS_BODY_25)"
   ]
  },
  {
   "cell_type": "code",
   "execution_count": 20,
   "id": "16d17460",
   "metadata": {},
   "outputs": [
    {
     "name": "stdout",
     "output_type": "stream",
     "text": [
      "(898, 1096, 3)\n"
     ]
    },
    {
     "data": {
      "text/plain": [
       "<matplotlib.image.AxesImage at 0x2243b4fa550>"
      ]
     },
     "execution_count": 20,
     "metadata": {},
     "output_type": "execute_result"
    },
    {
     "data": {
      "image/png": "[encoded data removed]",
      "text/plain": [
       "<Figure size 432x288 with 1 Axes>"
      ]
     },
     "metadata": {
      "needs_background": "light"
     },
     "output_type": "display_data"
    }
   ],
   "source": [
    "# 테스트 선 이미지 파일 확인\n",
    "\n",
    "testfile=\"C:/Users/leesu/testfile.png\"\n",
    "testfile= cv2.imread(testfile)\n",
    "plt.imshow(testfile)\n",
    "print(testfile.shape)\n",
    "\n",
    "img_gray = cv2.cvtColor(testfile, cv2.COLOR_BGR2GRAY)\n",
    "\n",
    "# 이미지중 선이미지를 찾아 표시\n",
    "# 컨투어란, 윤곽이라는 뜻 opencv에서 영상이나 이미지의 외곽 혹은 내곽 검출\n",
    "# findContours 함수를 통해 이진화 이미지에서 윤곽선 찾아냄.\n",
    "ret, img_th = cv2.threshold(img_gray, 150, 230, cv2.THRESH_BINARY_INV)\n",
    "contours, hierachy =cv2.findContours(img_th.copy(),cv2.RETR_EXTERNAL, cv2.CHAIN_APPROX_SIMPLE)\n",
    "rects = [cv2.boundingRect(each) for each in contours]\n",
    "for rect in rects:\n",
    "    cv2.rectangle(testfile, (rect[0], rect[1]),\n",
    "                 (rect[0] + rect[2], rect[1] + rect[3]), (0, 255, 0),1)\n",
    "    # cv2.rectangle(사진, 왼쪽위 좌표, 오른쪽아래 좌표 , 선의 색, 선의 두께)\n",
    "plt.imshow(testfile)"
   ]
  },
  {
   "cell_type": "code",
   "execution_count": 29,
   "id": "cda14db5",
   "metadata": {},
   "outputs": [
    {
     "data": {
      "text/plain": [
       "<matplotlib.image.AxesImage at 0x2243d734430>"
      ]
     },
     "execution_count": 29,
     "metadata": {},
     "output_type": "execute_result"
    },
    {
     "data": {
      "image/png": "[encoded data removed]",
      "text/plain": [
       "<Figure size 432x288 with 1 Axes>"
      ]
     },
     "metadata": {
      "needs_background": "light"
     },
     "output_type": "display_data"
    }
   ],
   "source": [
    "image = testfile.copy()\n",
    "# 부위별 슬라이싱(어깨 틀어짐)\n",
    "shoulder_a = int(rect[1]+rect[2]*0.2)\n",
    "shoulder_b = int(rect[3]*0.5)\n",
    "\n",
    "shoulder_image = image[shoulder_a:shoulder_b, rect[0]:rect[0] + rect[2]] # Slicing to crop the image\n",
    "\n",
    "plt.imshow(shoulder_image)"
   ]
  },
  {
   "cell_type": "code",
   "execution_count": 30,
   "id": "cd9b967a",
   "metadata": {},
   "outputs": [
    {
     "data": {
      "text/plain": [
       "<matplotlib.image.AxesImage at 0x2243d5fbdf0>"
      ]
     },
     "execution_count": 30,
     "metadata": {},
     "output_type": "execute_result"
    },
    {
     "data": {
      "image/png": "[encoded data removed]",
      "text/plain": [
       "<Figure size 432x288 with 1 Axes>"
      ]
     },
     "metadata": {
      "needs_background": "light"
     },
     "output_type": "display_data"
    }
   ],
   "source": [
    "# 부위별 슬라이싱(골반 틀어짐)\n",
    "hip_a = int(rect[1]+rect[2]*1.2)\n",
    "hip_b = int(rect[3]*0.8)\n",
    "\n",
    "hip_image = image[hip_a:hip_b, rect[0]:rect[0] + rect[2]]\n",
    "\n",
    "plt.imshow(hip_image)"
   ]
  },
  {
   "cell_type": "code",
   "execution_count": 31,
   "id": "6042c4f7",
   "metadata": {},
   "outputs": [
    {
     "data": {
      "text/plain": [
       "<matplotlib.image.AxesImage at 0x2243db95a60>"
      ]
     },
     "execution_count": 31,
     "metadata": {},
     "output_type": "execute_result"
    },
    {
     "data": {
      "image/png": "[encoded data removed]",
      "text/plain": [
       "<Figure size 432x288 with 1 Axes>"
      ]
     },
     "metadata": {
      "needs_background": "light"
     },
     "output_type": "display_data"
    }
   ],
   "source": [
    "# 부위별 슬라이싱(오다리)\n",
    "legs_a = int(rect[1]+rect[2]*1.2)\n",
    "legs_image = image[legs_a:rect[1]+rect[3], rect[0]:rect[0] + rect[2]]\n",
    "\n",
    "plt.imshow(legs_image)"
   ]
  },
  {
   "cell_type": "code",
   "execution_count": 32,
   "id": "e20c2e81",
   "metadata": {},
   "outputs": [],
   "source": [
    "# 테스트 선 이미지 파일 크기 조정\n",
    "shoulder_image= cv2.resize(shoulder_image.astype('float32'), dsize=(150, 150))\n",
    "hip_image = cv2.resize(hip_image.astype('float32'), dsize=(150, 150))\n",
    "legs_image= cv2.resize(legs_image.astype('float32'), dsize=(150, 150))"
   ]
  },
  {
   "cell_type": "code",
   "execution_count": 33,
   "id": "6cca66b2",
   "metadata": {},
   "outputs": [
    {
     "name": "stdout",
     "output_type": "stream",
     "text": [
      "(150, 150, 3)\n",
      "(1, 150, 150, 3)\n",
      "(150, 150, 3)\n",
      "(1, 150, 150, 3)\n",
      "(150, 150, 3)\n",
      "(1, 150, 150, 3)\n"
     ]
    }
   ],
   "source": [
    "# 선 이미지 파일 shape 조정\n",
    "print(shoulder_image.shape)\n",
    "shoulder_image = shoulder_image.reshape(-1,150,150,3).astype('float32')/255\n",
    "print(shoulder_image.shape)\n",
    "\n",
    "print(hip_image.shape)\n",
    "hip_image = hip_image.reshape(-1,150,150,3).astype('float32')/255\n",
    "print(hip_image.shape)\n",
    "\n",
    "print(legs_image.shape)\n",
    "legs_image = legs_image.reshape(-1,150,150,3).astype('float32')/255\n",
    "print(legs_image.shape)"
   ]
  },
  {
   "cell_type": "code",
   "execution_count": 34,
   "id": "540b76b4",
   "metadata": {
    "scrolled": true
   },
   "outputs": [
    {
     "name": "stdout",
     "output_type": "stream",
     "text": [
      "자세 상태의 각 확률은  [[0.36682895 0.6331711 ]]\n",
      "자세 상태의 각 확률은  [[0.8860574  0.11394265]]\n",
      "자세 상태의 각 확률은  [[0.77437353 0.22562645]]\n",
      "어깨 상태는 틀어짐 입니다.\n",
      "골반 상태는 틀어짐 입니다.\n",
      "다리 상태는 오다리 입니다.\n"
     ]
    }
   ],
   "source": [
    "# 결과 확인\n",
    "# 어깨 틀어짐 확인\n",
    "shoulder_predict=list()\n",
    "shoulder_predict.append(model.predict(shoulder_image))\n",
    "\n",
    "print('자세 상태의 각 확률은 ', model.predict(shoulder_image))\n",
    "\n",
    "if shoulder_predict[0].argmax() == 0:  # argmax 확률 높은 거 뽑아냄\n",
    "    shoulder = '정상'\n",
    "    \n",
    "elif shoulder_predict[0].argmax() == 1:\n",
    "    shoulder = '틀어짐'\n",
    "    \n",
    "\n",
    "# 허리 틀어짐 확인\n",
    "hip_predict=list()\n",
    "hip_predict.append(model_hip.predict(hip_image))\n",
    "\n",
    "print('자세 상태의 각 확률은 ', model_hip.predict(hip_image))\n",
    "\n",
    "if hip_predict[0].argmax() == 1:  # argmax 확률 높은 거 뽑아냄\n",
    "    hip = '정상'\n",
    "    \n",
    "elif hip_predict[0].argmax() == 0:\n",
    "    hip = '틀어짐'\n",
    "\n",
    "\n",
    "#  오다리 확인\n",
    "legs_predict=list()\n",
    "legs_predict.append(model_legs.predict(legs_image))\n",
    "\n",
    "print('자세 상태의 각 확률은 ', model_legs.predict(legs_image))\n",
    "\n",
    "if legs_predict[0].argmax() == 1:  # argmax 확률 높은 거 뽑아냄\n",
    "    legs = '정상'\n",
    "    \n",
    "elif legs_predict[0].argmax() == 0:\n",
    "    legs = '오다리'\n",
    "    \n",
    "# 최종 결과\n",
    "print('어깨 상태는', shoulder, '입니다.')\n",
    "print('골반 상태는', hip, '입니다.')\n",
    "print('다리 상태는', legs, '입니다.')"
   ]
  },
  {
   "cell_type": "code",
   "execution_count": null,
   "id": "0245db1a",
   "metadata": {},
   "outputs": [],
   "source": []
  }
 ],
 "metadata": {
  "kernelspec": {
   "display_name": "Python 3 (ipykernel)",
   "language": "python",
   "name": "python3"
  },
  "language_info": {
   "codemirror_mode": {
    "name": "ipython",
    "version": 3
   },
   "file_extension": ".py",
   "mimetype": "text/x-python",
   "name": "python",
   "nbconvert_exporter": "python",
   "pygments_lexer": "ipython3",
   "version": "3.8.11"
  }
 },
 "nbformat": 4,
 "nbformat_minor": 5
}
