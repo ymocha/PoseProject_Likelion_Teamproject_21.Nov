{
 "cells": [
  {
   "cell_type": "markdown",
   "id": "d459e0a0",
   "metadata": {},
   "source": [
    "# 2) CNN, ImageDataGenerator, 전이학습 후 모델 저장 "
   ]
  },
  {
   "cell_type": "markdown",
   "id": "d85fc048",
   "metadata": {},
   "source": [
    "#최종목표: CNN이미지를 바른자세와 非바른자세(어깨불균형,골반불균형,오다리)로 나뉘어 학습시킨 후  \n",
    "#새로운 사진을 넣었을때 이미지를 분석하여 바른자세,비바른자세인지를 출력(사진하나로 전체측정)"
   ]
  },
  {
   "cell_type": "code",
   "execution_count": 1,
   "id": "ebffad94",
   "metadata": {},
   "outputs": [],
   "source": [
    "import tensorflow as tf\n",
    "import numpy as np\n",
    "import matplotlib.pyplot as plt\n",
    "from tensorflow.keras.models import Sequential\n",
    "from tensorflow.keras.layers import Dense, Activation, Dropout, Flatten, Dense, Conv2D, MaxPooling2D\n",
    "from tensorflow.keras.preprocessing.image import ImageDataGenerator\n",
    "from tensorflow.keras import optimizers, initializers, regularizers, metrics, Input, models, layers\n",
    "from tensorflow.keras.applications import VGG16\n",
    "from tensorflow.keras.callbacks import ModelCheckpoint, EarlyStopping"
   ]
  },
  {
   "cell_type": "code",
   "execution_count": 2,
   "id": "44b4d6c5",
   "metadata": {},
   "outputs": [],
   "source": [
    "#seed값 설정 \n",
    "np.random.seed(3)\n",
    "tf.compat.v1.set_random_seed(3)"
   ]
  },
  {
   "cell_type": "markdown",
   "id": "e36913b1",
   "metadata": {},
   "source": [
    "#바른자세와 비바른자세로 이미지데이터 파일을 수집한 후 분류한다. "
   ]
  },
  {
   "cell_type": "markdown",
   "id": "1779969c",
   "metadata": {},
   "source": [
    "#바른자세 40장, 非바른자세(어깨불균형,골반불균형,오다리) 120장 = 총 160장의 스켈레톤을 수집 "
   ]
  },
  {
   "cell_type": "markdown",
   "id": "09c66591",
   "metadata": {},
   "source": [
    "#학습셋과 테스트셋으로 나눈다."
   ]
  },
  {
   "cell_type": "markdown",
   "id": "416f48e7",
   "metadata": {},
   "source": [
    "#학습시킨 파일을 이미지증폭기(ImageDataGenerator)로 증가시킨다. "
   ]
  },
  {
   "cell_type": "markdown",
   "id": "8a80d3f2",
   "metadata": {},
   "source": [
    "#증폭시킨 파일을 딥러닝으로 학습시킨다. "
   ]
  },
  {
   "cell_type": "markdown",
   "id": "0706f9f4",
   "metadata": {},
   "source": [
    "# 1. 이미지증폭기(ImageDataGenerator)"
   ]
  },
  {
   "cell_type": "markdown",
   "id": "3f681c16",
   "metadata": {},
   "source": [
    "#주어진 데이터를 이용해서 변형된 이미지를 만들어 학습셋에 포함시키는 기능이며 이미지 데이터의 수를 확장할때 효과적 "
   ]
  },
  {
   "cell_type": "code",
   "execution_count": 3,
   "id": "5734c4e5",
   "metadata": {},
   "outputs": [],
   "source": [
    "#학습셋만 이미지부풀리기(과적합을 피하기 위해서)\n",
    "train_datagen = ImageDataGenerator(rescale=1./255,\n",
    "                                   #주어진 이미지 크기를 바꾸어 준다. 값이 0~225의 RGB값을 가지고 있으므로 0~1로 바꿔준다.\n",
    "                                  horizontal_flip=True, #주어진 이미지를 수평으로 뒤집니다.\n",
    "                                  zoom_range=0.2, #정해진 범위 안에서 축소 또는 확대합니다.\n",
    "                                  width_shift_range=0.1, # 정해진 범위안에서 정해진그림을 수평으로 10%랜덤하게 평행이동\n",
    "                                  height_shift_range=0.1) #정해진 범위안에서 정해진그림을 수직으로 10%랜덤하게 평행이동"
   ]
  },
  {
   "cell_type": "code",
   "execution_count": 4,
   "id": "8180494b",
   "metadata": {},
   "outputs": [
    {
     "name": "stdout",
     "output_type": "stream",
     "text": [
      "Found 161 images belonging to 4 classes.\n"
     ]
    }
   ],
   "source": [
    "train_generator = train_datagen.flow_from_directory('C:\\\\Users\\\\flors\\\\1108 SKELETONED DATA\\\\train',\n",
    "                                                   target_size = (150, 150), # 이미지크기 \n",
    "                                                    batch_size = 5, # 샘플을 한번에 몇 개씩 처리할지를 정하는 부분 \n",
    "                                                   class_mode = 'categorical')  # 다중 분류(클래스4개 : 바른자세, 어깨, 허리, 오다리)"
   ]
  },
  {
   "cell_type": "code",
   "execution_count": 5,
   "id": "bd4466ce",
   "metadata": {},
   "outputs": [],
   "source": [
    "test_datagen = ImageDataGenerator(rescale=1./255,\n",
    "                                  horizontal_flip=True,\n",
    "                                  zoom_range=0.2,\n",
    "                                  width_shift_range=0.1,\n",
    "                                  height_shift_range=0.1)#여기에 이거 안주면 accuracy가 더 낮아진다\n"
   ]
  },
  {
   "cell_type": "code",
   "execution_count": 6,
   "id": "27dd5962",
   "metadata": {},
   "outputs": [
    {
     "name": "stdout",
     "output_type": "stream",
     "text": [
      "Found 32 images belonging to 4 classes.\n"
     ]
    }
   ],
   "source": [
    "test_generator = test_datagen.flow_from_directory('C:\\\\Users\\\\flors\\\\1108 SKELETONED DATA\\\\test',\n",
    "                                                  target_size = (150, 150), \n",
    "                                                  batch_size = 5,\n",
    "                                                  class_mode = 'categorical')"
   ]
  },
  {
   "cell_type": "markdown",
   "id": "f27f392a",
   "metadata": {},
   "source": [
    "# 2.전이학습: 기존의 학습결과를 가져와서 유사한 프로젝트에 사용하는 방법"
   ]
  },
  {
   "cell_type": "markdown",
   "id": "40221597",
   "metadata": {},
   "source": [
    "#딥러닝의 모델을 학습할때 어떠한 픽셀의 조합을 선, 어떠한 형태의 그룹을 면이 되는지 파악해야한다. "
   ]
  },
  {
   "cell_type": "markdown",
   "id": "4440350d",
   "metadata": {},
   "source": [
    "#아무런 정보없이 데이터를 판별할려면 많은 시간이 필요하므로 전이학습을 통해서 대용량의 데이터를 학습한 가중치를 "
   ]
  },
  {
   "cell_type": "markdown",
   "id": "81b7027c",
   "metadata": {},
   "source": [
    "#가져와 내 모델에 적용하면 좀 더 높은 정확도를 얻을 수 있다. "
   ]
  },
  {
   "cell_type": "markdown",
   "id": "26008052",
   "metadata": {},
   "source": [
    "#VGGnet은 옥스폭드대학의 연구팀 VGG에 의해 개발된 모델로 2014년 이미지넷 인식대회에서 2위를 차지함 "
   ]
  },
  {
   "cell_type": "markdown",
   "id": "3b4428c9",
   "metadata": {},
   "source": [
    "#include_top (우리가 만든 로컬 네크워트를 연결한것인가?)= False\n",
    "#또한 불러올 부분은 새롭게 학습되는 것이 아니므로 학습되지 않도록 transfer_model.trainable = False로 함 "
   ]
  },
  {
   "cell_type": "code",
   "execution_count": 7,
   "id": "942ff01f",
   "metadata": {},
   "outputs": [
    {
     "name": "stdout",
     "output_type": "stream",
     "text": [
      "Model: \"vgg16\"\n",
      "_________________________________________________________________\n",
      "Layer (type)                 Output Shape              Param #   \n",
      "=================================================================\n",
      "input_1 (InputLayer)         [(None, 150, 150, 3)]     0         \n",
      "_________________________________________________________________\n",
      "block1_conv1 (Conv2D)        (None, 150, 150, 64)      1792      \n",
      "_________________________________________________________________\n",
      "block1_conv2 (Conv2D)        (None, 150, 150, 64)      36928     \n",
      "_________________________________________________________________\n",
      "block1_pool (MaxPooling2D)   (None, 75, 75, 64)        0         \n",
      "_________________________________________________________________\n",
      "block2_conv1 (Conv2D)        (None, 75, 75, 128)       73856     \n",
      "_________________________________________________________________\n",
      "block2_conv2 (Conv2D)        (None, 75, 75, 128)       147584    \n",
      "_________________________________________________________________\n",
      "block2_pool (MaxPooling2D)   (None, 37, 37, 128)       0         \n",
      "_________________________________________________________________\n",
      "block3_conv1 (Conv2D)        (None, 37, 37, 256)       295168    \n",
      "_________________________________________________________________\n",
      "block3_conv2 (Conv2D)        (None, 37, 37, 256)       590080    \n",
      "_________________________________________________________________\n",
      "block3_conv3 (Conv2D)        (None, 37, 37, 256)       590080    \n",
      "_________________________________________________________________\n",
      "block3_pool (MaxPooling2D)   (None, 18, 18, 256)       0         \n",
      "_________________________________________________________________\n",
      "block4_conv1 (Conv2D)        (None, 18, 18, 512)       1180160   \n",
      "_________________________________________________________________\n",
      "block4_conv2 (Conv2D)        (None, 18, 18, 512)       2359808   \n",
      "_________________________________________________________________\n",
      "block4_conv3 (Conv2D)        (None, 18, 18, 512)       2359808   \n",
      "_________________________________________________________________\n",
      "block4_pool (MaxPooling2D)   (None, 9, 9, 512)         0         \n",
      "_________________________________________________________________\n",
      "block5_conv1 (Conv2D)        (None, 9, 9, 512)         2359808   \n",
      "_________________________________________________________________\n",
      "block5_conv2 (Conv2D)        (None, 9, 9, 512)         2359808   \n",
      "_________________________________________________________________\n",
      "block5_conv3 (Conv2D)        (None, 9, 9, 512)         2359808   \n",
      "_________________________________________________________________\n",
      "block5_pool (MaxPooling2D)   (None, 4, 4, 512)         0         \n",
      "=================================================================\n",
      "Total params: 14,714,688\n",
      "Trainable params: 0\n",
      "Non-trainable params: 14,714,688\n",
      "_________________________________________________________________\n"
     ]
    }
   ],
   "source": [
    "transfer_model = VGG16(weights='imagenet', include_top = False, input_shape=(150, 150, 3))\n",
    "transfer_model.trainable = False\n",
    "transfer_model.summary()\n"
   ]
  },
  {
   "cell_type": "markdown",
   "id": "0d78eff7",
   "metadata": {},
   "source": [
    "#Trainable paramas:0 학습가능한 피라미터가 없음을 확인 "
   ]
  },
  {
   "cell_type": "markdown",
   "id": "22b4cde7",
   "metadata": {},
   "source": [
    "# 3.딥러닝모델 구현 "
   ]
  },
  {
   "cell_type": "code",
   "execution_count": 8,
   "id": "5b453619",
   "metadata": {},
   "outputs": [
    {
     "name": "stdout",
     "output_type": "stream",
     "text": [
      "Model: \"sequential\"\n",
      "_________________________________________________________________\n",
      "Layer (type)                 Output Shape              Param #   \n",
      "=================================================================\n",
      "vgg16 (Functional)           (None, 4, 4, 512)         14714688  \n",
      "_________________________________________________________________\n",
      "flatten (Flatten)            (None, 8192)              0         \n",
      "_________________________________________________________________\n",
      "dense (Dense)                (None, 64)                524352    \n",
      "_________________________________________________________________\n",
      "dense_1 (Dense)              (None, 4)                 260       \n",
      "=================================================================\n",
      "Total params: 15,239,300\n",
      "Trainable params: 524,612\n",
      "Non-trainable params: 14,714,688\n",
      "_________________________________________________________________\n"
     ]
    }
   ],
   "source": [
    "finetune_model = models.Sequential()\n",
    "finetune_model.add(transfer_model)\n",
    "finetune_model.add(Flatten())\n",
    "finetune_model.add(Dense(64, activation='relu'))\n",
    "finetune_model.add(Dense(4, activation='softmax'))\n",
    "finetune_model.summary()"
   ]
  },
  {
   "cell_type": "code",
   "execution_count": 9,
   "id": "0efcd456",
   "metadata": {},
   "outputs": [],
   "source": [
    "finetune_model.compile(loss = 'categorical_crossentropy', optimizer=optimizers.Adam(learning_rate=0.0002), metrics=['accuracy'])\n",
    "\n",
    "# 부연설명: 케라스손실함수 https://cheris8.github.io/artificial%20intelligence/DL-Keras-Loss-Function/\n",
    "# 'categorical_crossentropy' 를 사용한 이유는 멀티클래스, 싱글라벨이므로. \n",
    "# 본 프로젝트의 정상/ 어깨틀어짐/ 골반틀어짐/ 오다리/ 분류의 4-class classification 문제이므로\n",
    "# label이 [1, 0, 0, 0] 또는 [0, 1, 0, 0] 또는 [0, 0, 1, 0] 또는 [0, 0, 0, 1]을 값으로 가질 때 사용\n",
    "# 마지막레이어의 활성함수는 'softmax'를 사용해줘야 한다.\n"
   ]
  },
  {
   "cell_type": "markdown",
   "id": "2adf7200",
   "metadata": {},
   "source": [
    "# 4.모델을 저장"
   ]
  },
  {
   "cell_type": "code",
   "execution_count": 27,
   "id": "82507140",
   "metadata": {},
   "outputs": [],
   "source": [
    "import os\n",
    "from tensorflow.keras.callbacks import ModelCheckpoint, EarlyStopping\n",
    "#모델 최적화 설정\n",
    "MODEL_DIR = './model/' #하드디스크에 저장\n",
    "if not os.path.exists(MODEL_DIR):    #잘 만들어진 모델 저장하는 디렉토리\n",
    "    os.mkdir(MODEL_DIR)\n",
    "\n",
    "modelpath = \"./model/{epoch:02d}-{val_loss:.4f}.hdf5\"\n",
    "checkpointer = ModelCheckpoint(filepath=modelpath, monitor='val_loss', verbose=1, save_best_only=True)\n",
    "early_stopping_callback = EarlyStopping(monitor='val_loss', patience=10)\n"
   ]
  },
  {
   "cell_type": "code",
   "execution_count": 28,
   "id": "55cf96e4",
   "metadata": {},
   "outputs": [
    {
     "name": "stderr",
     "output_type": "stream",
     "text": [
      "C:\\Users\\flors\\anaconda3\\envs\\tf_2_4\\lib\\site-packages\\tensorflow\\python\\keras\\engine\\training.py:1940: UserWarning: `Model.fit_generator` is deprecated and will be removed in a future version. Please use `Model.fit`, which supports generators.\n",
      "  warnings.warn('`Model.fit_generator` is deprecated and '\n"
     ]
    },
    {
     "name": "stdout",
     "output_type": "stream",
     "text": [
      "Epoch 1/20\n",
      "33/33 [==============================] - 27s 780ms/step - loss: 1.3840 - accuracy: 0.3727 - val_loss: 1.3319 - val_accuracy: 0.4000\n",
      "\n",
      "Epoch 00001: val_loss improved from inf to 1.33187, saving model to ./model\\01-1.3319.hdf5\n",
      "Epoch 2/20\n",
      "33/33 [==============================] - 30s 904ms/step - loss: 1.2411 - accuracy: 0.4348 - val_loss: 1.1462 - val_accuracy: 0.5000\n",
      "\n",
      "Epoch 00002: val_loss improved from 1.33187 to 1.14620, saving model to ./model\\02-1.1462.hdf5\n",
      "Epoch 3/20\n",
      "33/33 [==============================] - 27s 807ms/step - loss: 1.0904 - accuracy: 0.5217 - val_loss: 1.2743 - val_accuracy: 0.4500\n",
      "\n",
      "Epoch 00003: val_loss did not improve from 1.14620\n",
      "Epoch 4/20\n",
      "33/33 [==============================] - 25s 771ms/step - loss: 1.0789 - accuracy: 0.5714 - val_loss: 1.2953 - val_accuracy: 0.4500\n",
      "\n",
      "Epoch 00004: val_loss did not improve from 1.14620\n",
      "Epoch 5/20\n",
      "33/33 [==============================] - 29s 869ms/step - loss: 0.9743 - accuracy: 0.6646 - val_loss: 1.0591 - val_accuracy: 0.6000\n",
      "\n",
      "Epoch 00005: val_loss improved from 1.14620 to 1.05910, saving model to ./model\\05-1.0591.hdf5\n",
      "Epoch 6/20\n",
      "33/33 [==============================] - 28s 850ms/step - loss: 0.9205 - accuracy: 0.6335 - val_loss: 1.1363 - val_accuracy: 0.5500\n",
      "\n",
      "Epoch 00006: val_loss did not improve from 1.05910\n",
      "Epoch 7/20\n",
      "33/33 [==============================] - 26s 791ms/step - loss: 0.8794 - accuracy: 0.6646 - val_loss: 1.0182 - val_accuracy: 0.4500\n",
      "\n",
      "Epoch 00007: val_loss improved from 1.05910 to 1.01823, saving model to ./model\\07-1.0182.hdf5\n",
      "Epoch 8/20\n",
      "33/33 [==============================] - 28s 853ms/step - loss: 0.8252 - accuracy: 0.7019 - val_loss: 0.8388 - val_accuracy: 0.8000\n",
      "\n",
      "Epoch 00008: val_loss improved from 1.01823 to 0.83880, saving model to ./model\\08-0.8388.hdf5\n",
      "Epoch 9/20\n",
      "33/33 [==============================] - 34s 991ms/step - loss: 0.7889 - accuracy: 0.6770 - val_loss: 0.9897 - val_accuracy: 0.7500\n",
      "\n",
      "Epoch 00009: val_loss did not improve from 0.83880\n",
      "Epoch 10/20\n",
      "33/33 [==============================] - 37s 1s/step - loss: 0.7342 - accuracy: 0.7391 - val_loss: 0.9114 - val_accuracy: 0.6000\n",
      "\n",
      "Epoch 00010: val_loss did not improve from 0.83880\n",
      "Epoch 11/20\n",
      "33/33 [==============================] - 32s 972ms/step - loss: 0.8034 - accuracy: 0.6460 - val_loss: 0.8770 - val_accuracy: 0.6500\n",
      "\n",
      "Epoch 00011: val_loss did not improve from 0.83880\n",
      "Epoch 12/20\n",
      "33/33 [==============================] - 27s 812ms/step - loss: 0.7501 - accuracy: 0.7267 - val_loss: 1.0222 - val_accuracy: 0.6000\n",
      "\n",
      "Epoch 00012: val_loss did not improve from 0.83880\n",
      "Epoch 13/20\n",
      "33/33 [==============================] - 27s 844ms/step - loss: 0.7510 - accuracy: 0.6832 - val_loss: 0.9636 - val_accuracy: 0.5500\n",
      "\n",
      "Epoch 00013: val_loss did not improve from 0.83880\n",
      "Epoch 14/20\n",
      "33/33 [==============================] - 38s 1s/step - loss: 0.6681 - accuracy: 0.8012 - val_loss: 0.9343 - val_accuracy: 0.6500\n",
      "\n",
      "Epoch 00014: val_loss did not improve from 0.83880\n",
      "Epoch 15/20\n",
      "33/33 [==============================] - 38s 1s/step - loss: 0.6400 - accuracy: 0.7702 - val_loss: 0.7841 - val_accuracy: 0.7500\n",
      "\n",
      "Epoch 00015: val_loss improved from 0.83880 to 0.78415, saving model to ./model\\15-0.7841.hdf5\n",
      "Epoch 16/20\n",
      "33/33 [==============================] - 30s 921ms/step - loss: 0.6758 - accuracy: 0.7516 - val_loss: 0.8038 - val_accuracy: 0.7500\n",
      "\n",
      "Epoch 00016: val_loss did not improve from 0.78415\n",
      "Epoch 17/20\n",
      "33/33 [==============================] - 26s 795ms/step - loss: 0.6049 - accuracy: 0.7888 - val_loss: 0.7566 - val_accuracy: 0.8000\n",
      "\n",
      "Epoch 00017: val_loss improved from 0.78415 to 0.75664, saving model to ./model\\17-0.7566.hdf5\n",
      "Epoch 18/20\n",
      "33/33 [==============================] - 35s 1s/step - loss: 0.6309 - accuracy: 0.7391 - val_loss: 0.8679 - val_accuracy: 0.6500\n",
      "\n",
      "Epoch 00018: val_loss did not improve from 0.75664\n",
      "Epoch 19/20\n",
      "33/33 [==============================] - 38s 1s/step - loss: 0.5928 - accuracy: 0.7826 - val_loss: 0.5336 - val_accuracy: 0.9000\n",
      "\n",
      "Epoch 00019: val_loss improved from 0.75664 to 0.53358, saving model to ./model\\19-0.5336.hdf5\n",
      "Epoch 20/20\n",
      "33/33 [==============================] - 30s 912ms/step - loss: 0.6011 - accuracy: 0.7764 - val_loss: 0.9292 - val_accuracy: 0.6500\n",
      "\n",
      "Epoch 00020: val_loss did not improve from 0.53358\n"
     ]
    }
   ],
   "source": [
    "history = finetune_model.fit_generator(train_generator, steps_per_epoch=len(train_generator), epochs=20,\n",
    "                    validation_data = test_generator, validation_steps=4,callbacks=[early_stopping_callback, checkpointer])\n",
    "acc = history.history['accuracy']\n",
    "val_acc = history.history['val_accuracy']\n",
    "y_vloss = history.history['val_loss']\n",
    "y_loss = history.history['loss']"
   ]
  },
  {
   "cell_type": "code",
   "execution_count": 29,
   "id": "c47e09e7",
   "metadata": {},
   "outputs": [
    {
     "data": {
      "image/png": "[encoded data removed]",
      "text/plain": [
       "<Figure size 432x288 with 1 Axes>"
      ]
     },
     "metadata": {
      "needs_background": "light"
     },
     "output_type": "display_data"
    }
   ],
   "source": [
    "#그래프로 표현\n",
    "x_len = np.arange(len(y_loss))\n",
    "plt.plot(x_len, acc, marker='.', c='red', label='Trainset_acc')\n",
    "plt.plot(x_len, val_acc, marker='.', c='green', label='Testset_acc')\n",
    "plt.plot(x_len, y_vloss, marker='.', c='yellow', label = 'Testset_loss')\n",
    "plt.plot(x_len, y_loss, marker='.', c='blue', label='Trainset_loss')\n",
    "\n",
    "#그래프에 그리드를 주고 레이블을 표시\n",
    "plt.legend(loc='upper right')\n",
    "plt.grid()\n",
    "plt.xlabel('epoch')\n",
    "plt.ylabel('loss/acc')\n",
    "plt.show()"
   ]
  }
 ],
 "metadata": {
  "kernelspec": {
   "display_name": "Python 3 (ipykernel)",
   "language": "python",
   "name": "python3"
  },
  "language_info": {
   "codemirror_mode": {
    "name": "ipython",
    "version": 3
   },
   "file_extension": ".py",
   "mimetype": "text/x-python",
   "name": "python",
   "nbconvert_exporter": "python",
   "pygments_lexer": "ipython3",
   "version": "3.8.11"
  }
 },
 "nbformat": 4,
 "nbformat_minor": 5
}
